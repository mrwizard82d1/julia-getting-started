{
 "cells": [
  {
   "cell_type": "code",
   "execution_count": null,
   "id": "c305411f",
   "metadata": {},
   "outputs": [],
   "source": [
    "a = 5\n",
    "b = 2a^2 + 30a + 9"
   ]
  },
  {
   "cell_type": "code",
   "execution_count": null,
   "id": "6d5d1053",
   "metadata": {},
   "outputs": [],
   "source": [
    "using PyPlot\n",
    "x = range(0, stop=5, length=101)\n",
    "y = cos.(2x .+ 5)\n",
    "plot(x, y, linewidth=2.0, linestyle=\"--\")\n",
    "title(\"a nice cosinus\")\n",
    "xlabel(\"x axis\")\n",
    "ylabel(\"y axis\")"
   ]
  },
  {
   "cell_type": "code",
   "execution_count": null,
   "id": "40e2eef5",
   "metadata": {},
   "outputs": [],
   "source": []
  }
 ],
 "metadata": {
  "kernelspec": {
   "display_name": "Julia 1.6.3",
   "language": "julia",
   "name": "julia-1.6"
  }
 },
 "nbformat": 4,
 "nbformat_minor": 5
}
